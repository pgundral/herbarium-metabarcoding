{
 "cells": [
  {
   "cell_type": "code",
   "execution_count": 1,
   "id": "16031583",
   "metadata": {},
   "outputs": [],
   "source": [
    "from Bio import SeqIO\n",
    "\n",
    "def get_sequence_lengths(fasta_filepath):\n",
    "    \"\"\"\n",
    "    Extracts sequence lengths from a FASTA file.\n",
    "\n",
    "    Args:\n",
    "        fasta_filepath (str): Path to the FASTA file.\n",
    "\n",
    "    Returns:\n",
    "        dict: A dictionary where keys are sequence IDs and values are their lengths.\n",
    "    \"\"\"\n",
    "    sequence_lengths = {}\n",
    "    for record in SeqIO.parse(fasta_filepath, \"fasta\"):\n",
    "        sequence_lengths[record.id] = len(record.seq)\n",
    "    return sequence_lengths"
   ]
  },
  {
   "cell_type": "code",
   "execution_count": 12,
   "id": "b9b4209f",
   "metadata": {},
   "outputs": [
    {
     "name": "stdout",
     "output_type": "stream",
     "text": [
      "Sequence PBRU00041911: Length 443\n",
      "Sequence PBRU00077056: Length 444\n",
      "Sequence PBRU00021776: Length 484\n",
      "Sequence PBRU00047050: Length 484\n",
      "Sequence PBRU00050298: Length 469\n",
      "Sequence PBRU00078736: Length 494\n",
      "Sequence PBRU00055711: Length 471\n",
      "Sequence PBRU00064307: Length 468\n",
      "Sequence PBRU00071780: Length 468\n",
      "dict_keys(['PBRU00041911', 'PBRU00077056', 'PBRU00021776', 'PBRU00047050', 'PBRU00050298', 'PBRU00078736', 'PBRU00055711', 'PBRU00064307', 'PBRU00071780'])\n"
     ]
    }
   ],
   "source": [
    "filepath = \"data/barcodes/rbcL_fasta.fasta\" \n",
    "lengths = get_sequence_lengths(filepath)\n",
    "\n",
    "for seq_id, length in lengths.items():\n",
    "    print(f\"Sequence {seq_id}: Length {length}\")\n",
    "\n",
    "print(lengths.keys())"
   ]
  },
  {
   "cell_type": "code",
   "execution_count": 11,
   "id": "6f944653",
   "metadata": {},
   "outputs": [
    {
     "name": "stdout",
     "output_type": "stream",
     "text": [
      "Sequence PBRU00064538: Length 400\n",
      "Sequence PBRU00025308: Length 400\n",
      "Sequence PBRU00077056: Length 408\n",
      "Sequence PBRU00073743: Length 457\n",
      "Sequence PBRU00064307: Length 422\n",
      "Sequence PBRU00071780: Length 465\n",
      "Sequence PBRU00050298: Length 474\n",
      "Sequence PBRU00078736: Length 480\n",
      "Sequence PBRU00055711: Length 260\n",
      "Sequence PBRU00047866: Length 290\n",
      "dict_keys(['PBRU00064538', 'PBRU00025308', 'PBRU00077056', 'PBRU00073743', 'PBRU00064307', 'PBRU00071780', 'PBRU00050298', 'PBRU00078736', 'PBRU00055711', 'PBRU00047866'])\n"
     ]
    }
   ],
   "source": [
    "filepath = \"data/barcodes/trnL_fasta.fasta\" \n",
    "lengths = get_sequence_lengths(filepath)\n",
    "\n",
    "for seq_id, length in lengths.items():\n",
    "    print(f\"Sequence {seq_id}: Length {length}\")\n",
    "\n",
    "print(lengths.keys())"
   ]
  },
  {
   "cell_type": "code",
   "execution_count": null,
   "id": "a02d15c0",
   "metadata": {},
   "outputs": [],
   "source": []
  }
 ],
 "metadata": {
  "kernelspec": {
   "display_name": "herb",
   "language": "python",
   "name": "python3"
  },
  "language_info": {
   "codemirror_mode": {
    "name": "ipython",
    "version": 3
   },
   "file_extension": ".py",
   "mimetype": "text/x-python",
   "name": "python",
   "nbconvert_exporter": "python",
   "pygments_lexer": "ipython3",
   "version": "3.13.3"
  }
 },
 "nbformat": 4,
 "nbformat_minor": 5
}
