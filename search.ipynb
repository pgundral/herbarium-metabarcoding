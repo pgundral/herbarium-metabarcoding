{
 "cells": [
  {
   "cell_type": "code",
   "execution_count": 66,
   "metadata": {
    "vscode": {
     "languageId": "r"
    }
   },
   "outputs": [],
   "source": [
    "# Read in BRU data\n",
    "occurrences <- read.csv(\"./data/BrownUniversity-BRU_DwC-A/occurrences.csv\")"
   ]
  },
  {
   "cell_type": "code",
   "execution_count": 67,
   "metadata": {
    "vscode": {
     "languageId": "r"
    }
   },
   "outputs": [],
   "source": [
    "# Read in genera identified by ITIS processor \n",
    "library(tidyverse)\n",
    "genera <- read.csv(\"data/genera.csv\")\n",
    "genera <- data.frame(genera)\n",
    "\n",
    "colnames(genera) <- 'genus'\n",
    "\n",
    "# Find only specimens matching the genera\n",
    "match <- inner_join(occurrences, genera, by = \"genus\")"
   ]
  },
  {
   "cell_type": "code",
   "execution_count": 68,
   "metadata": {
    "vscode": {
     "languageId": "r"
    }
   },
   "outputs": [],
   "source": [
    "# Identify only specimens from the USA from 1975-present\n",
    "specimens <- match %>% filter(year >= 1975, country == 'United States of America')"
   ]
  },
  {
   "cell_type": "code",
   "execution_count": 69,
   "metadata": {
    "vscode": {
     "languageId": "r"
    }
   },
   "outputs": [],
   "source": [
    "# Read in Yellowstone occuring species data from NPSpecies\n",
    "library(readxl)\n",
    "yellowstone <- read_excel(\"data/NPSpecies_Checklist_YELL_20250223195402.xlsx\")"
   ]
  },
  {
   "cell_type": "code",
   "execution_count": 70,
   "metadata": {
    "vscode": {
     "languageId": "r"
    }
   },
   "outputs": [],
   "source": [
    "# Update all species names to exclude var.\n",
    "yellowstone$`Scientific Name` <- sub(\" var\\\\..*\", \"\", yellowstone$`Scientific Name`)"
   ]
  },
  {
   "cell_type": "code",
   "execution_count": 71,
   "metadata": {
    "vscode": {
     "languageId": "r"
    }
   },
   "outputs": [],
   "source": [
    "# yellowstone_specimens <- inner_join(specimens, yellowstone, join_by(\"scientificName\" == \"Scientific Name\"),\n",
    "#                                     relationship = \"many-to-many\")"
   ]
  },
  {
   "cell_type": "code",
   "execution_count": 72,
   "metadata": {
    "vscode": {
     "languageId": "r"
    }
   },
   "outputs": [],
   "source": [
    "yellowstone_specimens <- specimens[which(specimens$scientificName %in% yellowstone$`Scientific Name`),]"
   ]
  },
  {
   "cell_type": "code",
   "execution_count": 73,
   "metadata": {
    "vscode": {
     "languageId": "r"
    }
   },
   "outputs": [],
   "source": [
    "# write specimen IDs to CSV\n",
    "write(paste(yellowstone_specimens$occurrenceID, collapse = ', '), 'specimen_ids.txt')"
   ]
  },
  {
   "cell_type": "code",
   "execution_count": 74,
   "metadata": {
    "vscode": {
     "languageId": "r"
    }
   },
   "outputs": [],
   "source": [
    "# library(jpeg)\n",
    "\n",
    "# # download.file(multimedia$accessURI[1], \"test.jpg\")\n",
    "\n",
    "# display <- readJPEG(\"test.jpg\",native=TRUE)\n",
    "# plot(0:1,0:1,type=\"n\",ann=FALSE,axes=FALSE)\n",
    "# rasterImage(display,0,0,1,1)"
   ]
  }
 ],
 "metadata": {
  "kernelspec": {
   "display_name": "R",
   "language": "R",
   "name": "ir"
  },
  "language_info": {
   "codemirror_mode": "r",
   "file_extension": ".r",
   "mimetype": "text/x-r-source",
   "name": "R",
   "pygments_lexer": "r",
   "version": "4.4.2"
  }
 },
 "nbformat": 4,
 "nbformat_minor": 2
}
