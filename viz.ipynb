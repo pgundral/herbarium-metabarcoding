{
 "cells": [
  {
   "cell_type": "code",
   "execution_count": 1,
   "metadata": {
    "vscode": {
     "languageId": "r"
    }
   },
   "outputs": [
    {
     "data": {
      "text/html": [
       "<table class=\"dataframe\">\n",
       "<caption>A data.frame: 6 x 11</caption>\n",
       "<thead>\n",
       "\t<tr><th></th><th scope=col>X</th><th scope=col>total_barcodes</th><th scope=col>trnL_barcodes</th><th scope=col>ITIS_Family</th><th scope=col>BRU_Family</th><th scope=col>genus</th><th scope=col>scientificName</th><th scope=col>year</th><th scope=col>country</th><th scope=col>stateProvince</th><th scope=col>occurrenceID</th></tr>\n",
       "\t<tr><th></th><th scope=col>&lt;int&gt;</th><th scope=col>&lt;int&gt;</th><th scope=col>&lt;int&gt;</th><th scope=col>&lt;chr&gt;</th><th scope=col>&lt;chr&gt;</th><th scope=col>&lt;chr&gt;</th><th scope=col>&lt;chr&gt;</th><th scope=col>&lt;int&gt;</th><th scope=col>&lt;chr&gt;</th><th scope=col>&lt;chr&gt;</th><th scope=col>&lt;chr&gt;</th></tr>\n",
       "</thead>\n",
       "<tbody>\n",
       "\t<tr><th scope=row>1</th><td>1</td><td>0</td><td>0</td><td>Apodanthaceae    </td><td>Rafflesiaceae </td><td>Pilostyles   </td><td>Pilostyles thurberi   </td><td>  NA</td><td>United States of America</td><td>Arizona     </td><td>faede748-398a-4cb2-b7b0-645dcd0f8440</td></tr>\n",
       "\t<tr><th scope=row>2</th><td>2</td><td>0</td><td>0</td><td>Diervillaceae    </td><td>Caprifoliaceae</td><td>Diervilla    </td><td>Diervilla lonicera    </td><td>2020</td><td>United States of America</td><td>Rhode Island</td><td>cb2d6756-819e-4632-a0fc-c340cb429ee7</td></tr>\n",
       "\t<tr><th scope=row>3</th><td>3</td><td>0</td><td>0</td><td>Linnaeaceae      </td><td>Caprifoliaceae</td><td>Linnaea      </td><td>Linnaea borealis      </td><td>2016</td><td>United States of America</td><td>Maine       </td><td>d464605c-4eb6-4e3a-a21f-ba42ef310704</td></tr>\n",
       "\t<tr><th scope=row>4</th><td>4</td><td>0</td><td>0</td><td>Loxsomataceae    </td><td>Loxsomataceae </td><td>Loxsoma      </td><td>Loxsoma cunninghamii  </td><td>  NA</td><td>New Zealand             </td><td>            </td><td>69670938-58df-42fc-9f75-61bec2bbdc03</td></tr>\n",
       "\t<tr><th scope=row>5</th><td>5</td><td>2</td><td>0</td><td>Didymochlaenaceae</td><td>Aspidiaceae   </td><td>Didymochlaena</td><td>Didymochlaena lunulata</td><td>1898</td><td>Colombia                </td><td>            </td><td>b92639ca-bf03-43dc-8114-7683b924ce0b</td></tr>\n",
       "\t<tr><th scope=row>6</th><td>6</td><td>2</td><td>0</td><td>Lindsaeaceae     </td><td>Lindsaeaceae  </td><td>Lindsaea     </td><td>Lindsaea ensifolia    </td><td>1880</td><td>Bangladesh              </td><td>            </td><td>6cd3d6f7-c73e-43b0-9387-364ea1b5e2b2</td></tr>\n",
       "</tbody>\n",
       "</table>\n"
      ],
      "text/latex": [
       "A data.frame: 6 x 11\n",
       "\\begin{tabular}{r|lllllllllll}\n",
       "  & X & total\\_barcodes & trnL\\_barcodes & ITIS\\_Family & BRU\\_Family & genus & scientificName & year & country & stateProvince & occurrenceID\\\\\n",
       "  & <int> & <int> & <int> & <chr> & <chr> & <chr> & <chr> & <int> & <chr> & <chr> & <chr>\\\\\n",
       "\\hline\n",
       "\t1 & 1 & 0 & 0 & Apodanthaceae     & Rafflesiaceae  & Pilostyles    & Pilostyles thurberi    &   NA & United States of America & Arizona      & faede748-398a-4cb2-b7b0-645dcd0f8440\\\\\n",
       "\t2 & 2 & 0 & 0 & Diervillaceae     & Caprifoliaceae & Diervilla     & Diervilla lonicera     & 2020 & United States of America & Rhode Island & cb2d6756-819e-4632-a0fc-c340cb429ee7\\\\\n",
       "\t3 & 3 & 0 & 0 & Linnaeaceae       & Caprifoliaceae & Linnaea       & Linnaea borealis       & 2016 & United States of America & Maine        & d464605c-4eb6-4e3a-a21f-ba42ef310704\\\\\n",
       "\t4 & 4 & 0 & 0 & Loxsomataceae     & Loxsomataceae  & Loxsoma       & Loxsoma cunninghamii   &   NA & New Zealand              &              & 69670938-58df-42fc-9f75-61bec2bbdc03\\\\\n",
       "\t5 & 5 & 2 & 0 & Didymochlaenaceae & Aspidiaceae    & Didymochlaena & Didymochlaena lunulata & 1898 & Colombia                 &              & b92639ca-bf03-43dc-8114-7683b924ce0b\\\\\n",
       "\t6 & 6 & 2 & 0 & Lindsaeaceae      & Lindsaeaceae   & Lindsaea      & Lindsaea ensifolia     & 1880 & Bangladesh               &              & 6cd3d6f7-c73e-43b0-9387-364ea1b5e2b2\\\\\n",
       "\\end{tabular}\n"
      ],
      "text/markdown": [
       "\n",
       "A data.frame: 6 x 11\n",
       "\n",
       "| <!--/--> | X &lt;int&gt; | total_barcodes &lt;int&gt; | trnL_barcodes &lt;int&gt; | ITIS_Family &lt;chr&gt; | BRU_Family &lt;chr&gt; | genus &lt;chr&gt; | scientificName &lt;chr&gt; | year &lt;int&gt; | country &lt;chr&gt; | stateProvince &lt;chr&gt; | occurrenceID &lt;chr&gt; |\n",
       "|---|---|---|---|---|---|---|---|---|---|---|---|\n",
       "| 1 | 1 | 0 | 0 | Apodanthaceae     | Rafflesiaceae  | Pilostyles    | Pilostyles thurberi    |   NA | United States of America | Arizona      | faede748-398a-4cb2-b7b0-645dcd0f8440 |\n",
       "| 2 | 2 | 0 | 0 | Diervillaceae     | Caprifoliaceae | Diervilla     | Diervilla lonicera     | 2020 | United States of America | Rhode Island | cb2d6756-819e-4632-a0fc-c340cb429ee7 |\n",
       "| 3 | 3 | 0 | 0 | Linnaeaceae       | Caprifoliaceae | Linnaea       | Linnaea borealis       | 2016 | United States of America | Maine        | d464605c-4eb6-4e3a-a21f-ba42ef310704 |\n",
       "| 4 | 4 | 0 | 0 | Loxsomataceae     | Loxsomataceae  | Loxsoma       | Loxsoma cunninghamii   |   NA | New Zealand              | <!----> | 69670938-58df-42fc-9f75-61bec2bbdc03 |\n",
       "| 5 | 5 | 2 | 0 | Didymochlaenaceae | Aspidiaceae    | Didymochlaena | Didymochlaena lunulata | 1898 | Colombia                 | <!----> | b92639ca-bf03-43dc-8114-7683b924ce0b |\n",
       "| 6 | 6 | 2 | 0 | Lindsaeaceae      | Lindsaeaceae   | Lindsaea      | Lindsaea ensifolia     | 1880 | Bangladesh               | <!----> | 6cd3d6f7-c73e-43b0-9387-364ea1b5e2b2 |\n",
       "\n"
      ],
      "text/plain": [
       "  X total_barcodes trnL_barcodes ITIS_Family       BRU_Family     genus        \n",
       "1 1 0              0             Apodanthaceae     Rafflesiaceae  Pilostyles   \n",
       "2 2 0              0             Diervillaceae     Caprifoliaceae Diervilla    \n",
       "3 3 0              0             Linnaeaceae       Caprifoliaceae Linnaea      \n",
       "4 4 0              0             Loxsomataceae     Loxsomataceae  Loxsoma      \n",
       "5 5 2              0             Didymochlaenaceae Aspidiaceae    Didymochlaena\n",
       "6 6 2              0             Lindsaeaceae      Lindsaeaceae   Lindsaea     \n",
       "  scientificName         year country                  stateProvince\n",
       "1 Pilostyles thurberi      NA United States of America Arizona      \n",
       "2 Diervilla lonicera     2020 United States of America Rhode Island \n",
       "3 Linnaea borealis       2016 United States of America Maine        \n",
       "4 Loxsoma cunninghamii     NA New Zealand                           \n",
       "5 Didymochlaena lunulata 1898 Colombia                              \n",
       "6 Lindsaea ensifolia     1880 Bangladesh                            \n",
       "  occurrenceID                        \n",
       "1 faede748-398a-4cb2-b7b0-645dcd0f8440\n",
       "2 cb2d6756-819e-4632-a0fc-c340cb429ee7\n",
       "3 d464605c-4eb6-4e3a-a21f-ba42ef310704\n",
       "4 69670938-58df-42fc-9f75-61bec2bbdc03\n",
       "5 b92639ca-bf03-43dc-8114-7683b924ce0b\n",
       "6 6cd3d6f7-c73e-43b0-9387-364ea1b5e2b2"
      ]
     },
     "metadata": {},
     "output_type": "display_data"
    }
   ],
   "source": [
    "sliced <- read.csv(\"data/sliced_specimens.csv\")\n",
    "head(sliced)"
   ]
  },
  {
   "cell_type": "code",
   "execution_count": null,
   "metadata": {
    "vscode": {
     "languageId": "r"
    }
   },
   "outputs": [],
   "source": []
  }
 ],
 "metadata": {
  "kernelspec": {
   "display_name": "R",
   "language": "R",
   "name": "ir"
  },
  "language_info": {
   "codemirror_mode": "r",
   "file_extension": ".r",
   "mimetype": "text/x-r-source",
   "name": "R",
   "pygments_lexer": "r",
   "version": "4.4.2"
  }
 },
 "nbformat": 4,
 "nbformat_minor": 2
}
